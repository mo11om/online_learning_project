{
 "cells": [
  {
   "cell_type": "code",
   "execution_count": 59,
   "id": "a9a896cf",
   "metadata": {},
   "outputs": [],
   "source": [
    "import numpy as np\n",
    "def panning(strategy, scale) : #strategy must be a np.array!!\n",
    "    sum_ = 0\n",
    "    sum_ = sum(strategy)\n",
    "    range_ = scale - sum_/len(strategy)\n",
    "    strategy = strategy + range_\n",
    "    positive_sum = sum([i for i in strategy if i > 0])\n",
    "    positive_number = len([i for i in strategy if i > 0])\n",
    "    while  abs(positive_sum - scale) > 0.01  :\n",
    "        range_ = (scale - positive_sum)/positive_number\n",
    "        strategy = strategy + range_\n",
    "        positive_sum = sum([i for i in strategy if i > 0])\n",
    "        positive_number = len([i for i in strategy if i > 0])\n",
    "    strategy[strategy < 0] = 0\n",
    "    strategy = strategy/scale\n",
    "    return strategy \n",
    "    \n",
    "def  refresh_strategy(past_cost , past_strategy, times, learn_rate, scale) :\n",
    "    strategy = np.zeros(len(past_strategy))\n",
    "    gradient = np.zeros(len(past_strategy))\n",
    "    for i in range(times): #moving times \n",
    "        gradient = past_cost + (2/learn_rate)*(strategy - past_strategy)\n",
    "        strategy = strategy - gradient\n",
    "    new_strategy = panning(strategy, scale) \n",
    "    return new_strategy\n"
   ]
  },
  {
   "cell_type": "code",
   "execution_count": 82,
   "id": "0b65b8af",
   "metadata": {},
   "outputs": [
    {
     "name": "stdout",
     "output_type": "stream",
     "text": [
      "[1. 0.]\n"
     ]
    }
   ],
   "source": [
    "past_strategy = np.array([0.5, 0.5])\n",
    "past_cost = np.array([2,6])\n",
    "times = 100\n",
    "learn_rate = 10\n",
    "scale = 10\n",
    "print(refresh_strategy(past_cost , past_strategy, times, learn_rate, scale))"
   ]
  },
  {
   "cell_type": "code",
   "execution_count": 92,
   "id": "8cbc46ae",
   "metadata": {
    "scrolled": false
   },
   "outputs": [
    {
     "name": "stdout",
     "output_type": "stream",
     "text": [
      "x1 :  0.6 , x2 :  0.4\n",
      "870.05\n"
     ]
    }
   ],
   "source": [
    "min_ = 100000\n",
    "for x1 in range(0, 101) :\n",
    "    x2 = 100 - x1\n",
    "    if 2*x1 + 6*x2 + 0.1*((x1 - 0.5)**2 + (x2 - 0.5)**2) < min_ :\n",
    "        min_ = 2*x1 + 6*x2 + 0.1*((x1 - 0.5)**2 + (x2 - 0.5)**2)\n",
    "        best_x1 = x1\n",
    "        best_x2 = x2\n",
    "        \n",
    "print('x1 : ', best_x1/100, ', x2 : ', best_x2/100)\n",
    "print(2*best_x1 + 6*best_x2 + 0.1*((best_x1 - 0.5)**2 + (best_x2 - 0.5)**2))   "
   ]
  },
  {
   "cell_type": "code",
   "execution_count": 96,
   "id": "daad07b7",
   "metadata": {},
   "outputs": [
    {
     "data": {
      "text/plain": [
       "Text(0, 0.5, 'value')"
      ]
     },
     "execution_count": 96,
     "metadata": {},
     "output_type": "execute_result"
    },
    {
     "data": {
      "image/png": "[encoded data removed]",
      "text/plain": [
       "<Figure size 432x288 with 1 Axes>"
      ]
     },
     "metadata": {
      "needs_background": "light"
     },
     "output_type": "display_data"
    }
   ],
   "source": [
    "import matplotlib.pyplot as plt\n",
    "x1 = np.array([x for x in range(0, 101)])\n",
    "y = 2*x1 + 6*(100 - x1) + 0.1*((x1 - 0.5)**2 + ((100 - x1) - 0.5)**2)\n",
    "plt.plot(x1, y)\n",
    "plt.xlabel(\"x1\")\n",
    "plt.ylabel(\"value\")"
   ]
  },
  {
   "cell_type": "code",
   "execution_count": 97,
   "id": "c8ef9f06",
   "metadata": {},
   "outputs": [
    {
     "name": "stdout",
     "output_type": "stream",
     "text": [
      "x1 :  1.0 , x2 :  0.0\n",
      "29.05\n"
     ]
    }
   ],
   "source": [
    "min_ = 100000\n",
    "for i in range(0, 101) :\n",
    "    x1 = i/10\n",
    "    x2 = 10 - x1\n",
    "    if 2*x1 + 6*x2 + 0.1*((x1 - 0.5)**2 + (x2 - 0.5)**2) < min_ :\n",
    "        min_ = 2*x1 + 6*x2 + 0.1*((x1 - 0.5)**2 + (x2 - 0.5)**2)\n",
    "        best_x1 = x1\n",
    "        best_x2 = x2\n",
    "        \n",
    "print('x1 : ', best_x1/10, ', x2 : ', best_x2/10)\n",
    "print(2*best_x1 + 6*best_x2 + 0.1*((best_x1 - 0.5)**2 + (best_x2 - 0.5)**2))   "
   ]
  },
  {
   "cell_type": "code",
   "execution_count": 98,
   "id": "67e09ba8",
   "metadata": {},
   "outputs": [
    {
     "data": {
      "text/plain": [
       "Text(0, 0.5, 'value')"
      ]
     },
     "execution_count": 98,
     "metadata": {},
     "output_type": "execute_result"
    },
    {
     "data": {
      "image/png": "[encoded data removed]",
      "text/plain": [
       "<Figure size 432x288 with 1 Axes>"
      ]
     },
     "metadata": {
      "needs_background": "light"
     },
     "output_type": "display_data"
    }
   ],
   "source": [
    "import matplotlib.pyplot as plt\n",
    "x1 = np.array([x/10 for x in range(0, 101)])\n",
    "y = 2*x1 + 6*(10 - x1) + 0.1*((x1 - 0.5)**2 + ((10 - x1) - 0.5)**2)\n",
    "plt.plot(x1, y)\n",
    "plt.xlabel(\"x1\")\n",
    "plt.ylabel(\"value\")"
   ]
  },
  {
   "cell_type": "code",
   "execution_count": null,
   "id": "b00d1177",
   "metadata": {},
   "outputs": [],
   "source": []
  }
 ],
 "metadata": {
  "kernelspec": {
   "display_name": "Python 3",
   "language": "python",
   "name": "python3"
  },
  "language_info": {
   "codemirror_mode": {
    "name": "ipython",
    "version": 3
   },
   "file_extension": ".py",
   "mimetype": "text/x-python",
   "name": "python",
   "nbconvert_exporter": "python",
   "pygments_lexer": "ipython3",
   "version": "3.10.7 (tags/v3.10.7:6cc6b13, Sep  5 2022, 14:08:36) [MSC v.1933 64 bit (AMD64)]"
  },
  "vscode": {
   "interpreter": {
    "hash": "da813c4db4c46fb0b41af44a4fd10c8328eb84be17738f7942c75ac1846a515d"
   }
  }
 },
 "nbformat": 4,
 "nbformat_minor": 5
}
